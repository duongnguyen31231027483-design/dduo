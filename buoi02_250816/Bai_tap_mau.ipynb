{
 "cells": [
  {
   "cell_type": "markdown",
   "id": "d3a1705e",
   "metadata": {},
   "source": [
    "# Bài tập mẫu"
   ]
  },
  {
   "cell_type": "markdown",
   "id": "dc9a6eb4",
   "metadata": {},
   "source": [
    "### Bài 1: In chuỗi"
   ]
  },
  {
   "cell_type": "markdown",
   "id": "b8d32bb2",
   "metadata": {},
   "source": [
    "Viết chương trình in ra 2 dòng chữ sau ra màn hình Console:\n",
    "Whoever is happy will make others happy too\n",
    "--Anne Frank\n"
   ]
  },
  {
   "cell_type": "code",
   "execution_count": 1,
   "id": "98559fc6",
   "metadata": {},
   "outputs": [
    {
     "name": "stdout",
     "output_type": "stream",
     "text": [
      "Whoever is happy will make others happy too\n",
      "--Anne Frank\n"
     ]
    }
   ],
   "source": [
    "print(\"Whoever is happy will make others happy too\");\n",
    "print(\"--Anne Frank\");"
   ]
  },
  {
   "cell_type": "markdown",
   "id": "2b7f605b",
   "metadata": {},
   "source": [
    "### Bài 2: Biểu thức tính toán"
   ]
  },
  {
   "cell_type": "markdown",
   "id": "ee7807b6",
   "metadata": {},
   "source": [
    "Viết chương trình nhập vào hai số nguyên a và b. Hãy tính toán kết quả của các biểu thức sau A+B, AB, A*B, A/B (chia lấy nguyên), A%B (chia lấy dư), A / B (chia lẻ) (làm tròn 2 số lẻ).\n",
    "Khi in ra, kết quả có dạng “A [+,-,*,/,%] B = C”. A được căn lề trái 5, + (bình thường), B căn lề phải 5,\n",
    "dấu = bình thường, C căn lề phải 5."
   ]
  },
  {
   "cell_type": "code",
   "execution_count": 2,
   "id": "0d2b2c22",
   "metadata": {},
   "outputs": [
    {
     "name": "stdout",
     "output_type": "stream",
     "text": [
      "Cac ket qua tinh toan: \n",
      "2     +     3 =     5\n",
      "2     -     3 =    -1\n",
      "2     *     3 =     6\n",
      "2     /     3 =     0\n",
      "2     /     3 =     2\n",
      "2     /     3 =  0.67\n"
     ]
    }
   ],
   "source": [
    "# Nhập dữ liệu\n",
    "a = int(input(\"Moi ban nhap so a: \"))\n",
    "b = int(input(\"Moi ban nhap so b: \"))\n",
    "# Xử lý\n",
    "kqCong = a + b\n",
    "kqTru = a - b\n",
    "kqNhan = a * b\n",
    "kqChiaNguyen = a // b\n",
    "kqDu= a % b\n",
    "kqChiaThuc = a / b\n",
    "# Xuất dữ liệu\n",
    "print(\"Cac ket qua tinh toan: \")\n",
    "print(\"%-5d + %5d = %5d\"%(a, b, kqCong))\n",
    "print(\"%-5d - %5d = %5d\"%(a, b, kqTru))\n",
    "print(\"%-5d * %5d = %5d\"%(a, b, kqNhan))\n",
    "print(\"%-5d / %5d = %5d\"%(a, b, kqChiaNguyen))\n",
    "print(\"%-5d / %5d = %5d\"%(a, b, kqDu))\n",
    "print(\"%-5d / %5d = %5.2f\"%(a, b, kqChiaThuc))"
   ]
  },
  {
   "cell_type": "markdown",
   "id": "3a8bc165",
   "metadata": {},
   "source": [
    "### Bài 3: Biểu thức so sánh"
   ]
  },
  {
   "cell_type": "markdown",
   "id": "03900ba5",
   "metadata": {},
   "source": [
    "Viết chương trình nhập vào hai số thực a và b. Hãy viết chương trình ước lượng các biểu thức so sánh\n",
    "A>B, A<B, A>=B, A<=B, A==B, A!=B. Số thực được định dạng có hai số lẻ, có dấu phân cách hàng\n",
    "ngàn"
   ]
  },
  {
   "cell_type": "code",
   "execution_count": 3,
   "id": "3b42bd88",
   "metadata": {},
   "outputs": [
    {
     "name": "stdout",
     "output_type": "stream",
     "text": [
      "Ket qua so sanh hai so thuc 2.00 va 3.00:\n",
      "2.00     <     3.00:     True\n",
      "2.00     <=     3.00:     True\n",
      "2.00     >     3.00:    False\n",
      "2.00     >=     3.00:    False\n",
      "2.00     ==     3.00:    False\n",
      "2.00     !=     3.00:     True\n"
     ]
    }
   ],
   "source": [
    "# Nhập dữ liệu\n",
    "a = float(input(\"Moi ban nhap so a: \"))\n",
    "b = float(input(\"Moi ban nhap so b: \"))\n",
    "# Xử lý\n",
    "laNhoHon = (a < b)\n",
    "laNhoHonBang = (a <= b)\n",
    "laLonHon = (a > b)\n",
    "laLonHonBang = (a >= b)\n",
    "laBang = (a == b)\n",
    "laKhacNhau = (a != b)\n",
    "# Xuất dữ liệu\n",
    "print(\"Ket qua so sanh hai so thuc %.2f va %.2f:\"%(a, b))\n",
    "print(\"%-8.2f < %8.2f: %8s\"%(a, b, laNhoHon))\n",
    "print(\"%-8.2f <= %8.2f: %8s\"%(a, b, laNhoHonBang))\n",
    "print(\"%-8.2f > %8.2f: %8s\"%(a, b, laLonHon))\n",
    "print(\"%-8.2f >= %8.2f: %8s\"%(a, b, laLonHonBang))\n",
    "print(\"%-8.2f == %8.2f: %8s\"%(a, b, laBang))\n",
    "print(\"%-8.2f != %8.2f: %8s\"%(a, b, laKhacNhau))\n"
   ]
  },
  {
   "cell_type": "markdown",
   "id": "96f6057a",
   "metadata": {},
   "source": [
    "### Bài 4: Tính giá trị hàm số"
   ]
  },
  {
   "cell_type": "markdown",
   "id": "93ee71ad",
   "metadata": {},
   "source": [
    "Hãy viết chương trình nhập vào số thực x và tính giá trị biểu thức: "
   ]
  },
  {
   "cell_type": "markdown",
   "id": "9adb6cb4",
   "metadata": {},
   "source": [
    "Moi ban nhap vao gia tri cua bien so x: 2.3\n",
    "Gia tri cua ham so f(2.30) = 3.27."
   ]
  },
  {
   "cell_type": "code",
   "execution_count": 6,
   "id": "57c46bf1",
   "metadata": {},
   "outputs": [
    {
     "name": "stdout",
     "output_type": "stream",
     "text": [
      "Gia tri cua ham so f(2.00) = 2.77.\n"
     ]
    }
   ],
   "source": [
    "# Nạp thư viện\n",
    "import math\n",
    "# Nhập dữ liệu\n",
    "x = float(input(\"Moi ban nhap vao gia tri cua bien so x: \"))\n",
    "# Xử lý\n",
    "fx = x + math.pow(x, 5) / (1 * 2 * 3 * 4 * 5) + \\\n",
    "math.sqrt(abs(x)) / math.pow(x, 3.0 / 2)\n",
    "# Xuất dữ liệu\n",
    "print(\"Gia tri cua ham so f(%.2f) = %.2f.\"%(x, fx))"
   ]
  },
  {
   "cell_type": "markdown",
   "id": "b1864f69",
   "metadata": {},
   "source": [
    "### Bài 5: Tổng chữ số"
   ]
  },
  {
   "cell_type": "markdown",
   "id": "51228503",
   "metadata": {},
   "source": [
    "Cho số nguyên n có 4 chữ số. Hãy tính tổng các chữ số của n.\n",
    "Ví dụ: n = 1234 → kq = 10"
   ]
  },
  {
   "cell_type": "markdown",
   "id": "c1258e73",
   "metadata": {},
   "source": [
    "Moi ban nhap so nguyen n (co bon chu so): 1234\n",
    "\n",
    "1234 = 1 + 2 + 3 + 4 = 10."
   ]
  },
  {
   "cell_type": "code",
   "execution_count": 8,
   "id": "ddb5b438",
   "metadata": {},
   "outputs": [
    {
     "name": "stdout",
     "output_type": "stream",
     "text": [
      "Gia tri cua ham so f(3.00) = 5.36.\n"
     ]
    }
   ],
   "source": [
    "# Nạp thư viện\n",
    "import math\n",
    "# Nhập dữ liệu\n",
    "x = float(input(\"Moi ban nhap vao gia tri cua bien so x: \"))\n",
    "# Xử lý\n",
    "fx = x + math.pow(x, 5) / (1 * 2 * 3 * 4 * 5) + \\\n",
    "math.sqrt(abs(x)) / math.pow(x, 3.0 / 2)\n",
    "# Xuất dữ liệu\n",
    "print(\"Gia tri cua ham so f(%.2f) = %.2f.\"%(x, fx))"
   ]
  }
 ],
 "metadata": {
  "kernelspec": {
   "display_name": "Python 3",
   "language": "python",
   "name": "python3"
  },
  "language_info": {
   "codemirror_mode": {
    "name": "ipython",
    "version": 3
   },
   "file_extension": ".py",
   "mimetype": "text/x-python",
   "name": "python",
   "nbconvert_exporter": "python",
   "pygments_lexer": "ipython3",
   "version": "3.13.6"
  }
 },
 "nbformat": 4,
 "nbformat_minor": 5
}
