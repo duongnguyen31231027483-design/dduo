{
 "cells": [
  {
   "cell_type": "markdown",
   "id": "7a1086ec",
   "metadata": {},
   "source": [
    "# Bài 1: In nhãn"
   ]
  },
  {
   "cell_type": "markdown",
   "id": "c9fa5a0e",
   "metadata": {},
   "source": [
    "Viết chương trình in ra nhãn gồm nhiều dòng như sau:\n",
    "**************************\n",
    "* Truong: Dai Hoc UEH *\n",
    "* Khoa: CNTT *\n",
    "* Ho ten: *\n",
    "**************************"
   ]
  },
  {
   "cell_type": "code",
   "execution_count": 2,
   "id": "719f1d37",
   "metadata": {},
   "outputs": [
    {
     "name": "stdout",
     "output_type": "stream",
     "text": [
      "Trường: Đại học UEH\n",
      "Khoa: CNTT\n",
      "Họ tên: Nguyễn Thị Quỳnh Hương\n"
     ]
    }
   ],
   "source": [
    "# Nhập thông tin\n",
    "truong = \"Đại học UEH\"\n",
    "khoa = \"CNTT\"\n",
    "ho_ten = input(\"Nhập họ tên: \")\n",
    "\n",
    "# In thông tin\n",
    "print(\"Trường:\", truong)\n",
    "print(\"Khoa:\", khoa)\n",
    "print(\"Họ tên:\", ho_ten)"
   ]
  },
  {
   "cell_type": "markdown",
   "id": "930b5fb0",
   "metadata": {},
   "source": [
    "# Bài 2: Tính diện tích và chu vi hình tròn"
   ]
  },
  {
   "cell_type": "markdown",
   "id": "ac9c0308",
   "metadata": {},
   "source": [
    "Nhập vào bán kính R của một hình tròn. Hãy tính diện tích và chu vi hình tròn đó theo công thức:𝑆 =\n",
    "3.14𝑥𝑅2, 𝑃 = 2𝑥3.14𝑥𝑅. In kết quả với 1 số lẻ thập phân. "
   ]
  },
  {
   "cell_type": "code",
   "execution_count": 4,
   "id": "5664b7bb",
   "metadata": {},
   "outputs": [
    {
     "name": "stdout",
     "output_type": "stream",
     "text": [
      "Diện tích (S): 12.6\n",
      "Chu vi (P): 12.6\n"
     ]
    }
   ],
   "source": [
    "r = float(input(\"Nhập bán kính R của hình tròn: \"))\n",
    "s = 3.14 * r * r\n",
    "p = 2 * 3.14 * r\n",
    "\n",
    "print(f\"Diện tích (S): {s:.1f}\")\n",
    "print(f\"Chu vi (P): {p:.1f}\")"
   ]
  },
  {
   "cell_type": "markdown",
   "id": "a896b01b",
   "metadata": {},
   "source": [
    "# Bài 3: Đổi sang giây"
   ]
  },
  {
   "cell_type": "markdown",
   "id": "1cf966f6",
   "metadata": {},
   "source": [
    "Một thiết bị hoạt động được h giờ, m phút và s giây. Hãy viết chương trình chuyển thời gian đó sang\n",
    "tổng số giây. "
   ]
  },
  {
   "cell_type": "code",
   "execution_count": 5,
   "id": "b1593627",
   "metadata": {},
   "outputs": [
    {
     "name": "stdout",
     "output_type": "stream",
     "text": [
      "Tổng số giây: 7384\n"
     ]
    }
   ],
   "source": [
    "h = int(input(\"Nhập số giờ (h): \"))\n",
    "m = int(input(\"Nhập số phút (m): \"))\n",
    "s = int(input(\"Nhập số giây (s): \"))\n",
    "\n",
    "total_seconds = h * 3600 + m * 60 + s\n",
    "\n",
    "print(f\"Tổng số giây: {total_seconds}\")"
   ]
  },
  {
   "cell_type": "markdown",
   "id": "f434079b",
   "metadata": {},
   "source": [
    "# Bài 4: Đổi sang giờ phút giây"
   ]
  },
  {
   "cell_type": "markdown",
   "id": "42972edd",
   "metadata": {},
   "source": [
    "Một thiết bị hoạt động được t giây. Hãy viết chương trình chuyển số giây đó dưới dạng số giờ, số phút\n",
    "và số giây"
   ]
  },
  {
   "cell_type": "code",
   "execution_count": 8,
   "id": "1a5a2623",
   "metadata": {},
   "outputs": [
    {
     "name": "stdout",
     "output_type": "stream",
     "text": [
      "34293 giờ, 33 phút, 9 giây\n"
     ]
    }
   ],
   "source": [
    "t = int(input(\"Nhập số giây (t): \"))\n",
    "\n",
    "hours = t // 3600\n",
    "remaining_seconds = t % 3600\n",
    "minutes = remaining_seconds // 60\n",
    "seconds = remaining_seconds % 60\n",
    "\n",
    "print(f\"{hours} giờ, {minutes} phút, {seconds} giây\")"
   ]
  },
  {
   "cell_type": "markdown",
   "id": "20c91c7a",
   "metadata": {},
   "source": [
    "# Bài 5: Tính diện tích tam giác"
   ]
  },
  {
   "cell_type": "markdown",
   "id": "5babcc4b",
   "metadata": {},
   "source": [
    "Cho 3 số thực a, b, c là độ dài 3 cạnh của một tam giác. Hãy tính diện tích tam giác này theo công thức\n",
    "Heron: 𝑆 = √𝑝(𝑝 − 𝑎)(𝑝 − 𝑏)(𝑝 − 𝑐) với 𝑝 = (a+𝑏+𝑐)/2 . In kết quả với 2 số lẻ thập phân."
   ]
  },
  {
   "cell_type": "code",
   "execution_count": 9,
   "id": "c9bfef10",
   "metadata": {},
   "outputs": [
    {
     "name": "stdout",
     "output_type": "stream",
     "text": [
      "Diện tích tam giác: 2.90\n"
     ]
    }
   ],
   "source": [
    "a = float(input(\"Nhập độ dài cạnh a: \"))\n",
    "b = float(input(\"Nhập độ dài cạnh b: \"))\n",
    "c = float(input(\"Nhập độ dài cạnh c: \"))\n",
    "\n",
    "# Tính chu vi (p)\n",
    "p = (a + b + c) / 2\n",
    "\n",
    "# Tính diện tích (S) theo công thức Heron\n",
    "s = (p * (p - a) * (p - b) * (p - c)) ** 0.5\n",
    "\n",
    "print(f\"Diện tích tam giác: {s:.2f}\")"
   ]
  },
  {
   "cell_type": "markdown",
   "id": "001a7762",
   "metadata": {},
   "source": [
    "# Bài 6: Hàm mũ"
   ]
  },
  {
   "cell_type": "markdown",
   "id": "b0ecffdf",
   "metadata": {},
   "source": [
    "Nhập số thực a và số nguyên n. Hãy tính a^n"
   ]
  },
  {
   "cell_type": "code",
   "execution_count": 11,
   "id": "58cabde8",
   "metadata": {},
   "outputs": [
    {
     "name": "stdout",
     "output_type": "stream",
     "text": [
      "Kết quả: y = 8.0\n"
     ]
    }
   ],
   "source": [
    "a = float(input(\"Nhập độ dài cạnh a: \"))\n",
    "x = float(input(\"Nhập số mũ nguyên x: \"))\n",
    "y = a ** x\n",
    "\n",
    "print(f\"Kết quả: y = {y}\")"
   ]
  },
  {
   "cell_type": "markdown",
   "id": "799ccf27",
   "metadata": {},
   "source": [
    "# Bài 7: Đảo số"
   ]
  },
  {
   "cell_type": "markdown",
   "id": "25ee1ca2",
   "metadata": {},
   "source": [
    "Cho số nguyên x có 4 chữ số. Hãy tìm số y là số đảo của số x, tức là số có các chữ số viết theo thứ tự\n",
    "ngược lại của x.\n",
    "Ví dụ: x = 1234 → y = 4321"
   ]
  },
  {
   "cell_type": "code",
   "execution_count": 14,
   "id": "856c325c",
   "metadata": {},
   "outputs": [
    {
     "name": "stdout",
     "output_type": "stream",
     "text": [
      "Số y đảo ngược của x là: 4321\n"
     ]
    }
   ],
   "source": [
    "x = int(input(\"Nhập số nguyên 4 chữ số x: \"))\n",
    "# Tách các chữ số\n",
    "d1 = x // 1000    # Hàng nghìn\n",
    "d2 = (x // 100) % 10  # Hàng trăm\n",
    "d3 = (x // 10) % 10   # Hàng chục\n",
    "d4 = x % 10           # Hàng đơn vị\n",
    "\n",
    "# Tạo số y bằng cách đảo ngược\n",
    "y = d4 * 1000 + d3 * 100 + d2 * 10 + d1\n",
    "\n",
    "print(f\"Số y đảo ngược của x là: {y}\")"
   ]
  },
  {
   "cell_type": "markdown",
   "id": "920c4b54",
   "metadata": {},
   "source": [
    "# Bài 8: Độ sang Radian"
   ]
  },
  {
   "cell_type": "markdown",
   "id": "0755bec3",
   "metadata": {},
   "source": [
    "Tìm công thức và viết chương trình chuyển một góc từ độ sang radian"
   ]
  },
  {
   "cell_type": "code",
   "execution_count": 17,
   "id": "dee01747",
   "metadata": {},
   "outputs": [
    {
     "name": "stdout",
     "output_type": "stream",
     "text": [
      "Góc dưới dạng radian: 3.14\n"
     ]
    }
   ],
   "source": [
    "import math\n",
    "\n",
    "degree = float(input(\"Nhập góc (độ): \"))\n",
    "radian = degree * math.pi / 180\n",
    "\n",
    "print(f\"Góc dưới dạng radian: {radian:.2f}\")"
   ]
  },
  {
   "cell_type": "markdown",
   "id": "e31e8b1f",
   "metadata": {},
   "source": [
    "# Bài 9: Hàm số 1"
   ]
  },
  {
   "cell_type": "markdown",
   "id": "729129f2",
   "metadata": {},
   "source": [
    "Nhập vào số thực x, tính và in ra các giá trị y1, y (làm tròn 2 số lẻ):\n"
   ]
  },
  {
   "cell_type": "code",
   "execution_count": 16,
   "id": "151005e2",
   "metadata": {},
   "outputs": [
    {
     "name": "stdout",
     "output_type": "stream",
     "text": [
      "y1(x1): 17.00\n",
      "y1(x2): 39.00\n",
      "y2(x1): 0.55\n",
      "y2(x2): -6.43\n",
      "Khoảng cách: 7.05\n"
     ]
    }
   ],
   "source": [
    "import math\n",
    "\n",
    "# Tính y1 và y2 cho x1 và x2\n",
    "x1 = float(input(\"Nhập số thực x1: \"))\n",
    "x2 = float(input(\"Nhập số thực x2: \"))\n",
    "\n",
    "y1_1 = 4 * (x1 ** 2) + 10 * x1 + 3\n",
    "y1_2 = 4 * (x2 ** 2) + 10 * x2 + 3\n",
    "\n",
    "y2_1 = (math.sin(x1 ** 2) - x1 ** 2 + 1) / (math.cos(x1) + 1)\n",
    "y2_2 = (math.sin(x2 ** 2) - x2 ** 2 + 1) / (math.cos(x2) + 1)\n",
    "\n",
    "# Tính khoảng cách\n",
    "d = math.sqrt((x2 - x1) ** 2 + (y2_2 - y2_1) ** 2)\n",
    "\n",
    "print(f\"y1(x1): {y1_1:.2f}\")\n",
    "print(f\"y1(x2): {y1_2:.2f}\")\n",
    "print(f\"y2(x1): {y2_1:.2f}\")\n",
    "print(f\"y2(x2): {y2_2:.2f}\")\n",
    "print(f\"Khoảng cách: {d:.2f}\")"
   ]
  },
  {
   "cell_type": "markdown",
   "id": "7c3bb0ca",
   "metadata": {},
   "source": [
    "# Bài 10: Khoảng cách"
   ]
  },
  {
   "cell_type": "markdown",
   "id": "a2ecc110",
   "metadata": {},
   "source": [
    "Tính khoảng cách giữa 2 điểm A(𝑥1, 𝑦1) và B(𝑥2, 𝑦2)"
   ]
  },
  {
   "cell_type": "code",
   "execution_count": 18,
   "id": "e534d073",
   "metadata": {},
   "outputs": [
    {
     "name": "stdout",
     "output_type": "stream",
     "text": [
      "Khoảng cách giữa A(2.0, 3.0) và B(4.0, 5.0) là: 2.83\n"
     ]
    }
   ],
   "source": [
    "import math\n",
    "\n",
    "x1 = float(input(\"Nhập tọa độ x1: \"))\n",
    "y1 = float(input(\"Nhập tọa độ y1: \"))\n",
    "x2 = float(input(\"Nhập tọa độ x2: \"))\n",
    "y2 = float(input(\"Nhập tọa độ y2: \"))\n",
    "\n",
    "distance = math.sqrt((x2 - x1) ** 2 + (y2 - y1) ** 2)\n",
    "\n",
    "print(f\"Khoảng cách giữa A({x1}, {y1}) và B({x2}, {y2}) là: {distance:.2f}\")"
   ]
  }
 ],
 "metadata": {
  "kernelspec": {
   "display_name": "Python 3",
   "language": "python",
   "name": "python3"
  },
  "language_info": {
   "codemirror_mode": {
    "name": "ipython",
    "version": 3
   },
   "file_extension": ".py",
   "mimetype": "text/x-python",
   "name": "python",
   "nbconvert_exporter": "python",
   "pygments_lexer": "ipython3",
   "version": "3.13.6"
  }
 },
 "nbformat": 4,
 "nbformat_minor": 5
}
